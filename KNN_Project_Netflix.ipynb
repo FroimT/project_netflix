{
 "cells": [
  {
   "cell_type": "code",
   "execution_count": 1,
   "id": "2e2e0a93-730a-4f0a-aab5-1a94c53b60f3",
   "metadata": {},
   "outputs": [],
   "source": [
    "import pandas as pd\n",
    "import numpy as np"
   ]
  },
  {
   "cell_type": "code",
   "execution_count": 2,
   "id": "025790da-1e26-4844-895d-799d76e11617",
   "metadata": {},
   "outputs": [],
   "source": [
    "df_knn = pd.read_csv('df_final_knn.csv')"
   ]
  },
  {
   "cell_type": "code",
   "execution_count": 35,
   "id": "d90b8d98-6fc8-4f74-a3d4-821d78d35bdf",
   "metadata": {},
   "outputs": [
    {
     "data": {
      "text/html": [
       "<div>\n",
       "<style scoped>\n",
       "    .dataframe tbody tr th:only-of-type {\n",
       "        vertical-align: middle;\n",
       "    }\n",
       "\n",
       "    .dataframe tbody tr th {\n",
       "        vertical-align: top;\n",
       "    }\n",
       "\n",
       "    .dataframe thead th {\n",
       "        text-align: right;\n",
       "    }\n",
       "</style>\n",
       "<table border=\"1\" class=\"dataframe\">\n",
       "  <thead>\n",
       "    <tr style=\"text-align: right;\">\n",
       "      <th></th>\n",
       "      <th>tconst</th>\n",
       "      <th>averageRating</th>\n",
       "      <th>numVotes</th>\n",
       "      <th>originalTitle</th>\n",
       "      <th>title</th>\n",
       "      <th>decade</th>\n",
       "      <th>action</th>\n",
       "      <th>adventure</th>\n",
       "      <th>animation</th>\n",
       "      <th>biography</th>\n",
       "      <th>...</th>\n",
       "      <th>Steven Spielberg</th>\n",
       "      <th>Tim Burton</th>\n",
       "      <th>Tony Scott</th>\n",
       "      <th>Walter Hill</th>\n",
       "      <th>William Wyler</th>\n",
       "      <th>Woody Allen</th>\n",
       "      <th>genres</th>\n",
       "      <th>nconst</th>\n",
       "      <th>category</th>\n",
       "      <th>primaryName</th>\n",
       "    </tr>\n",
       "  </thead>\n",
       "  <tbody>\n",
       "    <tr>\n",
       "      <th>3007</th>\n",
       "      <td>tt0368667</td>\n",
       "      <td>7.8</td>\n",
       "      <td>14274.0</td>\n",
       "      <td>Interstella 5555: The 5tory of the 5ecret 5tar...</td>\n",
       "      <td>interstella 5555</td>\n",
       "      <td>2000</td>\n",
       "      <td>1</td>\n",
       "      <td>1</td>\n",
       "      <td>1</td>\n",
       "      <td>0</td>\n",
       "      <td>...</td>\n",
       "      <td>0</td>\n",
       "      <td>0</td>\n",
       "      <td>0</td>\n",
       "      <td>0</td>\n",
       "      <td>0</td>\n",
       "      <td>0</td>\n",
       "      <td>Action,Adventure,Animation</td>\n",
       "      <td>NaN</td>\n",
       "      <td>NaN</td>\n",
       "      <td>Not specified</td>\n",
       "    </tr>\n",
       "    <tr>\n",
       "      <th>3600</th>\n",
       "      <td>tt0816692</td>\n",
       "      <td>8.6</td>\n",
       "      <td>1623578.0</td>\n",
       "      <td>Interstellar</td>\n",
       "      <td>interstellar</td>\n",
       "      <td>2010</td>\n",
       "      <td>0</td>\n",
       "      <td>1</td>\n",
       "      <td>0</td>\n",
       "      <td>0</td>\n",
       "      <td>...</td>\n",
       "      <td>0</td>\n",
       "      <td>0</td>\n",
       "      <td>0</td>\n",
       "      <td>0</td>\n",
       "      <td>0</td>\n",
       "      <td>0</td>\n",
       "      <td>Adventure,Drama,Sci-Fi</td>\n",
       "      <td>nm0634240</td>\n",
       "      <td>director</td>\n",
       "      <td>Christopher Nolan</td>\n",
       "    </tr>\n",
       "  </tbody>\n",
       "</table>\n",
       "<p>2 rows × 88 columns</p>\n",
       "</div>"
      ],
      "text/plain": [
       "         tconst  averageRating   numVotes  \\\n",
       "3007  tt0368667            7.8    14274.0   \n",
       "3600  tt0816692            8.6  1623578.0   \n",
       "\n",
       "                                          originalTitle             title  \\\n",
       "3007  Interstella 5555: The 5tory of the 5ecret 5tar...  interstella 5555   \n",
       "3600                                       Interstellar      interstellar   \n",
       "\n",
       "      decade  action  adventure  animation  biography  ...  Steven Spielberg  \\\n",
       "3007    2000       1          1          1          0  ...                 0   \n",
       "3600    2010       0          1          0          0  ...                 0   \n",
       "\n",
       "      Tim Burton  Tony Scott  Walter Hill  William Wyler  Woody Allen  \\\n",
       "3007           0           0            0              0            0   \n",
       "3600           0           0            0              0            0   \n",
       "\n",
       "                          genres     nconst  category        primaryName  \n",
       "3007  Action,Adventure,Animation        NaN       NaN      Not specified  \n",
       "3600      Adventure,Drama,Sci-Fi  nm0634240  director  Christopher Nolan  \n",
       "\n",
       "[2 rows x 88 columns]"
      ]
     },
     "execution_count": 35,
     "metadata": {},
     "output_type": "execute_result"
    }
   ],
   "source": [
    "df_knn[df_knn['title'].str.contains('interstella')]"
   ]
  },
  {
   "cell_type": "code",
   "execution_count": 3,
   "id": "cbd7596c-fcbd-44c5-8e8b-43bd97e3ba58",
   "metadata": {},
   "outputs": [
    {
     "data": {
      "text/plain": [
       "False"
      ]
     },
     "execution_count": 3,
     "metadata": {},
     "output_type": "execute_result"
    }
   ],
   "source": [
    "df_knn[df_knn['title'].str.contains('Interstellar')].shape[0] > 1"
   ]
  },
  {
   "cell_type": "code",
   "execution_count": 11,
   "id": "ed4d9d63-2b70-479a-9ee5-97a210adcd99",
   "metadata": {},
   "outputs": [],
   "source": [
    "from sklearn.neighbors import KNeighborsClassifier, NearestNeighbors\n",
    "from sklearn.preprocessing import StandardScaler"
   ]
  },
  {
   "cell_type": "code",
   "execution_count": 6,
   "id": "b6c7a8e3-879a-4608-bbc1-822cd219683c",
   "metadata": {},
   "outputs": [],
   "source": [
    "X = df_knn[['averageRating', 'numVotes','decade', 'action', 'adventure', 'animation', 'biography', 'comedy',\n",
    "       'crime', 'documentary', 'drama', 'family', 'fantasy', 'film-noir',\n",
    "       'history', 'horror', 'music', 'musical', 'mystery', 'news', 'romance',\n",
    "       'sci-fi', 'sport', 'thriller', 'war', 'western', 'Akira Kurosawa', 'Alfred Hitchcock', 'Billy Wilder',\n",
    "       'Blake Edwards', 'Brian De Palma', 'Christopher Nolan',\n",
    "       'Clint Eastwood', 'Danny Boyle', 'David Cronenberg', 'David Fincher',\n",
    "       'David Lynch', 'Ethan Coen', 'Francis Ford Coppola', 'George Cukor',\n",
    "       'Gus Van Sant', 'Guy Ritchie', 'Hayao Miyazaki', 'Howard Hawks',\n",
    "       'Ingmar Bergman', 'Joel Coen', 'Joel Schumacher', 'John Carpenter',\n",
    "       'John Ford', 'John Huston', 'John Landis', 'Lars von Trier',\n",
    "       'Lasse Hallström', 'Luc Besson', 'Martin Scorsese', 'Michael Haneke',\n",
    "       'Mike Nichols', 'Neil Jordan', 'Oliver Stone', 'Pedro Almodóvar',\n",
    "       'Peter Jackson', 'Quentin Tarantino', 'Richard Donner',\n",
    "       'Richard Linklater', 'Ridley Scott', 'Rob Reiner', 'Robert Rodriguez',\n",
    "       'Robert Zemeckis', 'Roman Polanski', 'Ron Howard', 'Sam Raimi',\n",
    "       'Sidney Lumet', 'Stanley Kubrick', 'Stephen Frears',\n",
    "       'Steven Soderbergh', 'Steven Spielberg', 'Tim Burton', 'Tony Scott',\n",
    "       'Walter Hill', 'William Wyler', 'Woody Allen']]"
   ]
  },
  {
   "cell_type": "code",
   "execution_count": 56,
   "id": "307f7ebd-b3f7-4f0b-a7a5-e84a52333ca3",
   "metadata": {},
   "outputs": [],
   "source": [
    "scaler = StandardScaler().fit(X)\n",
    "X_scaled = scaler.transform(X)\n",
    "df_scaled = pd.DataFrame(data = X_scaled, columns = X.columns, index = X.index)\n",
    "df_scaled.insert(0, column = 'title', value = df_knn['title'])\n",
    "df_scaled.insert(2, column = 'genres', value = df_knn['genres'])\n",
    "df_scaled.insert(3, column = 'réalisateur', value = df_knn['primaryName'])\n",
    "weights = pd.Series(np.array([3, 1, 2.5, 2.5, 2.5,2.5, 2.5, 2.5, 2.5, 2.5, 2.5, 2.5, 2.5, 2.5, 2.5, 2.5, 2.5, 2.5, 2.5, 2.5, 2.5, 2.5, 2.5, 2.5, 2.5, 2.5, 0.5, 0.5, 0.5, 0.5, 0.5, 0.5,0.5, 0.5, 0.5, 0.5, 0.5, 0.5, 0.5, 0.5, 0.5, 0.5, 0.5, 0.5, 0.5, 0.5, 0.5, 0.5, 0.5, 0.5, 0.5, 0.5, 0.5, 0.5, 0.5, 0.5, 0.5, 0.5, 0.5, 0.5, 0.5, 0.5, 0.5, 0.5, 0.5, 0.5, 0.5, 0.5, 0.5, 0.5, 0.5, 0.5, 0.5, 0.5, 0.5, 0.5, 0.5, 0.5, 0.5, 0.5, 0.5]), index = X.columns)"
   ]
  },
  {
   "cell_type": "code",
   "execution_count": null,
   "id": "371a5847-5a28-4e82-b704-ad2e6b071841",
   "metadata": {},
   "outputs": [],
   "source": [
    "df_knn.iloc[]"
   ]
  },
  {
   "cell_type": "code",
   "execution_count": 61,
   "id": "c6bdbd82-6c1c-4384-a681-c03c9fe7d487",
   "metadata": {},
   "outputs": [
    {
     "name": "stdin",
     "output_type": "stream",
     "text": [
      "Insere un film interstellar\n"
     ]
    }
   ],
   "source": [
    "movie = input('Insere un film')"
   ]
  },
  {
   "cell_type": "code",
   "execution_count": 58,
   "id": "811204d6-d553-4376-8738-7cd804870401",
   "metadata": {},
   "outputs": [],
   "source": [
    "def recommandation2(movie):\n",
    "    if df_knn[df_knn['title'].str.contains(movie)].shape[0] > 1:\n",
    "        print(\"Plusieurs films contiennent ce nom, choisissez parmis l'un d'eux : \")\n",
    "        return df_knn[df_knn['title'].str.contains(movie)]\n",
    "    else:\n",
    "        model_film = NearestNeighbors(metric = 'wminkowski', n_neighbors=10, metric_params = {\"w\": weights}).fit(X_scaled)\n",
    "        index_reco = model_film.kneighbors(df_scaled.loc[df_scaled['title'].str.contains(movie), X.columns])\n",
    "        recommended_movie = df_knn.iloc[df_knn.index.searchsorted(index_reco[1][0][0:9])]\n",
    "        return recommended_movie[['title', 'averageRating', 'decade', 'primaryName', 'genres']]"
   ]
  },
  {
   "cell_type": "code",
   "execution_count": 62,
   "id": "46ff9b32-0d22-4742-9fc9-dbe929f61622",
   "metadata": {},
   "outputs": [
    {
     "data": {
      "text/html": [
       "<div>\n",
       "<style scoped>\n",
       "    .dataframe tbody tr th:only-of-type {\n",
       "        vertical-align: middle;\n",
       "    }\n",
       "\n",
       "    .dataframe tbody tr th {\n",
       "        vertical-align: top;\n",
       "    }\n",
       "\n",
       "    .dataframe thead th {\n",
       "        text-align: right;\n",
       "    }\n",
       "</style>\n",
       "<table border=\"1\" class=\"dataframe\">\n",
       "  <thead>\n",
       "    <tr style=\"text-align: right;\">\n",
       "      <th></th>\n",
       "      <th>title</th>\n",
       "      <th>averageRating</th>\n",
       "      <th>decade</th>\n",
       "      <th>primaryName</th>\n",
       "      <th>genres</th>\n",
       "    </tr>\n",
       "  </thead>\n",
       "  <tbody>\n",
       "    <tr>\n",
       "      <th>3600</th>\n",
       "      <td>interstellar</td>\n",
       "      <td>8.6</td>\n",
       "      <td>2010</td>\n",
       "      <td>Christopher Nolan</td>\n",
       "      <td>Adventure,Drama,Sci-Fi</td>\n",
       "    </tr>\n",
       "    <tr>\n",
       "      <th>4196</th>\n",
       "      <td>inception</td>\n",
       "      <td>8.8</td>\n",
       "      <td>2010</td>\n",
       "      <td>Christopher Nolan</td>\n",
       "      <td>Action,Adventure,Sci-Fi</td>\n",
       "    </tr>\n",
       "    <tr>\n",
       "      <th>3483</th>\n",
       "      <td>le prestige</td>\n",
       "      <td>8.5</td>\n",
       "      <td>2000</td>\n",
       "      <td>Christopher Nolan</td>\n",
       "      <td>Drama,Mystery,Sci-Fi</td>\n",
       "    </tr>\n",
       "    <tr>\n",
       "      <th>4272</th>\n",
       "      <td>gravity</td>\n",
       "      <td>7.7</td>\n",
       "      <td>2010</td>\n",
       "      <td>Not specified</td>\n",
       "      <td>Adventure,Drama,Sci-Fi</td>\n",
       "    </tr>\n",
       "    <tr>\n",
       "      <th>3025</th>\n",
       "      <td>batman begins</td>\n",
       "      <td>8.2</td>\n",
       "      <td>2000</td>\n",
       "      <td>Christopher Nolan</td>\n",
       "      <td>Action,Adventure</td>\n",
       "    </tr>\n",
       "    <tr>\n",
       "      <th>3637</th>\n",
       "      <td>avengers</td>\n",
       "      <td>8.0</td>\n",
       "      <td>2010</td>\n",
       "      <td>Not specified</td>\n",
       "      <td>Action,Adventure,Sci-Fi</td>\n",
       "    </tr>\n",
       "    <tr>\n",
       "      <th>5237</th>\n",
       "      <td>avengers: infinity war</td>\n",
       "      <td>8.4</td>\n",
       "      <td>2010</td>\n",
       "      <td>Not specified</td>\n",
       "      <td>Action,Adventure,Sci-Fi</td>\n",
       "    </tr>\n",
       "    <tr>\n",
       "      <th>4208</th>\n",
       "      <td>mad max: fury road</td>\n",
       "      <td>8.1</td>\n",
       "      <td>2010</td>\n",
       "      <td>Not specified</td>\n",
       "      <td>Action,Adventure,Sci-Fi</td>\n",
       "    </tr>\n",
       "    <tr>\n",
       "      <th>4896</th>\n",
       "      <td>premier contact</td>\n",
       "      <td>7.9</td>\n",
       "      <td>2010</td>\n",
       "      <td>Not specified</td>\n",
       "      <td>Drama,Sci-Fi</td>\n",
       "    </tr>\n",
       "  </tbody>\n",
       "</table>\n",
       "</div>"
      ],
      "text/plain": [
       "                       title  averageRating  decade        primaryName  \\\n",
       "3600            interstellar            8.6    2010  Christopher Nolan   \n",
       "4196               inception            8.8    2010  Christopher Nolan   \n",
       "3483             le prestige            8.5    2000  Christopher Nolan   \n",
       "4272                 gravity            7.7    2010      Not specified   \n",
       "3025           batman begins            8.2    2000  Christopher Nolan   \n",
       "3637                avengers            8.0    2010      Not specified   \n",
       "5237  avengers: infinity war            8.4    2010      Not specified   \n",
       "4208      mad max: fury road            8.1    2010      Not specified   \n",
       "4896         premier contact            7.9    2010      Not specified   \n",
       "\n",
       "                       genres  \n",
       "3600   Adventure,Drama,Sci-Fi  \n",
       "4196  Action,Adventure,Sci-Fi  \n",
       "3483     Drama,Mystery,Sci-Fi  \n",
       "4272   Adventure,Drama,Sci-Fi  \n",
       "3025         Action,Adventure  \n",
       "3637  Action,Adventure,Sci-Fi  \n",
       "5237  Action,Adventure,Sci-Fi  \n",
       "4208  Action,Adventure,Sci-Fi  \n",
       "4896             Drama,Sci-Fi  "
      ]
     },
     "execution_count": 62,
     "metadata": {},
     "output_type": "execute_result"
    }
   ],
   "source": [
    "recommandation2(movie)"
   ]
  },
  {
   "cell_type": "code",
   "execution_count": null,
   "id": "48d3d44e-d3f6-476b-8a99-4a672297b4f1",
   "metadata": {},
   "outputs": [],
   "source": []
  }
 ],
 "metadata": {
  "kernelspec": {
   "display_name": "Python 3",
   "language": "python",
   "name": "python3"
  },
  "language_info": {
   "codemirror_mode": {
    "name": "ipython",
    "version": 3
   },
   "file_extension": ".py",
   "mimetype": "text/x-python",
   "name": "python",
   "nbconvert_exporter": "python",
   "pygments_lexer": "ipython3",
   "version": "3.8.8"
  }
 },
 "nbformat": 4,
 "nbformat_minor": 5
}
